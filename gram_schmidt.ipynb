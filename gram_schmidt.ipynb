{
 "cells": [
  {
   "cell_type": "markdown",
   "metadata": {},
   "source": [
    "##### Algoritmo de Ortonormalização de Gram-Schmidt\n",
    "\n",
    "__Entrada:__ Conjunto de vetores $B_{\\text{inicial}}$ <br>\n",
    "__Saída:__ Conjunto de vetores ortonormalizado $B_{\\text{final}}$\n",
    "\n",
    "__Algortimo__:\n",
    "\n",
    "$B_{\\text{final}} \\leftarrow \\emptyset$ <br>\n",
    "`para cada ` $v \\in B_{\\text{inicial}}$ `faça:` <br>\n",
    "$\\qquad$ `para cada ` $u \\in B_{\\text{final}}$ `faça:` <br>\n",
    "$\\qquad\\qquad v \\leftarrow v - \\text{proj}_{u}(v) \\\\\n",
    "\\qquad v \\leftarrow \\frac{1}{\\lVert v \\rVert} v \\\\\n",
    "\\qquad B_{\\text{final}} \\leftarrow B_{\\text{final}} \\cup \\{v\\} $\n"
   ]
  },
  {
   "cell_type": "markdown",
   "metadata": {},
   "source": [
    "#### Sugestões e Perguntas:\n",
    "\n",
    "1. O que acontece se apenas um vetor for passado?\n",
    "2. E se forem dois? por exemplo $(1,1)^T$ e $(0,1)^T$\n",
    "3. E com três? $(1,1,1)^T$, $(0,0,1)^T$ e $(0,1,0)^T$\n",
    "4. Desenhe os vetores a cada passo para os casos com 2 e 3 vetores.\n",
    "5. O que acontece se forem passados 3 vetores linearmente dependentes?\n",
    "6. Por que Algoritmo (ou Processo) de __Ortonormalização__ de Gram-Schmidt? Os vetores que saem sempre serão uma base ortonormal? (ver casos com conjuntos linearmente independentes e caso em que há dependência no conjunto inicial)\n",
    "8. Muda alguma coisa - a menos de ser impossível desenhar - se algumas das sugestões anteriores forem para um número qualquer de vetores em vez de 2 ou 3?"
   ]
  },
  {
   "cell_type": "code",
   "execution_count": null,
   "metadata": {},
   "outputs": [],
   "source": []
  }
 ],
 "metadata": {
  "kernelspec": {
   "display_name": "Python 3",
   "language": "python",
   "name": "python3"
  },
  "language_info": {
   "codemirror_mode": {
    "name": "ipython",
    "version": 3
   },
   "file_extension": ".py",
   "mimetype": "text/x-python",
   "name": "python",
   "nbconvert_exporter": "python",
   "pygments_lexer": "ipython3",
   "version": "3.7.3"
  }
 },
 "nbformat": 4,
 "nbformat_minor": 2
}
